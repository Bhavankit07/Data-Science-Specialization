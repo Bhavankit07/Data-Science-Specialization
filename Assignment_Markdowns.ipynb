{
 "cells": [
  {
   "cell_type": "markdown",
   "id": "94e81adb-b4e9-4aa8-a6f7-45ba06a22367",
   "metadata": {},
   "source": [
    "# My Jupyter Notebook on IBM Watson Studio"
   ]
  },
  {
   "cell_type": "markdown",
   "id": "374f1bf1-6da3-403a-9692-a6f4de2f250b",
   "metadata": {},
   "source": [
    "**Bhavankit Navadiya**\n",
    "##### Data Scientist"
   ]
  },
  {
   "cell_type": "markdown",
   "id": "04188619-3a78-4581-9e70-b3aa872eea99",
   "metadata": {},
   "source": [
    "_I am interested in data science beacuse I am enjoying in playing with difficult data, find out meaningful insights and bring actionable predictions_"
   ]
  },
  {
   "cell_type": "markdown",
   "id": "97e4103c-b9df-4ef5-aadd-dacdf37e5378",
   "metadata": {},
   "source": [
    "### Addition of two numbers"
   ]
  },
  {
   "cell_type": "code",
   "execution_count": 1,
   "id": "840ae7fa-6bb9-4ce1-ba59-c574c398761c",
   "metadata": {},
   "outputs": [
    {
     "data": {
      "text/plain": [
       "2"
      ]
     },
     "execution_count": 1,
     "metadata": {},
     "output_type": "execute_result"
    }
   ],
   "source": [
    "1 + 1"
   ]
  },
  {
   "cell_type": "markdown",
   "id": "9d48abe7-684b-4e24-9248-3d66ea107499",
   "metadata": {},
   "source": [
    "### Horizontal Rule"
   ]
  },
  {
   "cell_type": "markdown",
   "id": "9c0e49a8-7243-4638-90a7-8a92cb3931a8",
   "metadata": {},
   "source": [
    "This is line 1\n",
    "***\n",
    "This is line 2"
   ]
  },
  {
   "cell_type": "markdown",
   "id": "36e2337a-3cb7-4557-a95b-a674ce7007be",
   "metadata": {},
   "source": [
    "### Bulleted List"
   ]
  },
  {
   "cell_type": "markdown",
   "id": "be47d967-958b-404d-96ba-246d26c5ba47",
   "metadata": {},
   "source": [
    "- This is First Bullet.\n",
    "- This is First Bullet."
   ]
  },
  {
   "cell_type": "markdown",
   "id": "ec496ff9-c390-4746-b7a7-9f8c0eccf0c6",
   "metadata": {},
   "source": [
    "### Numbered List"
   ]
  },
  {
   "cell_type": "markdown",
   "id": "80f00fb1-7fbb-486c-b063-2a29ed33714e",
   "metadata": {},
   "source": [
    "1. Number 1\n",
    "2. Number 2"
   ]
  },
  {
   "cell_type": "markdown",
   "id": "c6330519-6931-4104-a290-240618d63b65",
   "metadata": {},
   "source": [
    "### Tables"
   ]
  },
  {
   "cell_type": "markdown",
   "id": "5e7337f1-de81-4376-8466-9912d648d883",
   "metadata": {},
   "source": [
    "|Name|Address|Salary|\n",
    "|-----|-------|------|\n",
    "|Bhavankit|Windsor|1000|\n",
    "|Nilay|Sydney|5000|"
   ]
  },
  {
   "cell_type": "markdown",
   "id": "e3d5c3b0-70ce-4876-ba31-2234a092ca2c",
   "metadata": {},
   "source": [
    "### Hyperlinks"
   ]
  },
  {
   "cell_type": "markdown",
   "id": "3a4b221c-1a1f-4b4a-9ddb-c9bf98fab0e9",
   "metadata": {},
   "source": [
    "<a href=\"https://www.linkedin.com/in/bhavankit-navadiya-069727152/\">Link To my profile</a>"
   ]
  },
  {
   "cell_type": "markdown",
   "id": "d1ce71f8-ad69-4f46-a1de-cdabfc20d305",
   "metadata": {},
   "source": [
    "### Images"
   ]
  },
  {
   "cell_type": "markdown",
   "id": "1fbe423e-9e20-400b-91aa-39cf2f4e5370",
   "metadata": {},
   "source": [
    "<img src=\"Downloads/SARk7z.jpg\" alt=\"Zoom Background Image\" />"
   ]
  },
  {
   "cell_type": "markdown",
   "id": "fe99afc6-fae1-4131-9d11-0d92eb1d6f8a",
   "metadata": {},
   "source": [
    "### Code Highlighting"
   ]
  },
  {
   "cell_type": "markdown",
   "id": "5fb227cc-62b4-48be-9908-606910da5f33",
   "metadata": {},
   "source": [
    "`Code Highlighting`"
   ]
  },
  {
   "cell_type": "markdown",
   "id": "8b6a325c-9396-4b37-844a-d42a02b574da",
   "metadata": {},
   "source": [
    "### Blocked Quotes"
   ]
  },
  {
   "cell_type": "markdown",
   "id": "0fc1e709-88ed-4f5a-a3ea-669e7260b40b",
   "metadata": {},
   "source": [
    "> This is blocked quote."
   ]
  },
  {
   "cell_type": "markdown",
   "id": "9ef0d91b-0709-4f41-8c1a-b050c4953ddb",
   "metadata": {},
   "source": [
    "### Strikethrough"
   ]
  },
  {
   "cell_type": "markdown",
   "id": "33f2dbcd-296c-4f13-bdb0-7698ceef88e3",
   "metadata": {},
   "source": [
    "~~Strike this~~"
   ]
  }
 ],
 "metadata": {
  "kernelspec": {
   "display_name": "Python 3 (ipykernel)",
   "language": "python",
   "name": "python3"
  },
  "language_info": {
   "codemirror_mode": {
    "name": "ipython",
    "version": 3
   },
   "file_extension": ".py",
   "mimetype": "text/x-python",
   "name": "python",
   "nbconvert_exporter": "python",
   "pygments_lexer": "ipython3",
   "version": "3.10.2"
  }
 },
 "nbformat": 4,
 "nbformat_minor": 5
}
